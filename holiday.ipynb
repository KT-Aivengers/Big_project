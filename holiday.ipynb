{
 "cells": [
  {
   "cell_type": "code",
   "execution_count": 4,
   "metadata": {},
   "outputs": [],
   "source": [
    "from datetime import datetime\n",
    "import requests\n",
    "import json\n",
    "import pandas as pd\n",
    "from pandas import json_normalize\n"
   ]
  },
  {
   "cell_type": "code",
   "execution_count": 12,
   "metadata": {},
   "outputs": [
    {
     "name": "stdout",
     "output_type": "stream",
     "text": [
      "   dateKind dateName isHoliday   locdate  seq        remarks\n",
      "0        01     1월1일         Y  20230101    1            NaN\n",
      "1        01       설날         Y  20230121    1            NaN\n",
      "2        01       설날         Y  20230122    1            NaN\n",
      "3        01       설날         Y  20230123    1            NaN\n",
      "4        01    대체공휴일         Y  20230124    1            NaN\n",
      "5        01      삼일절         Y  20230301    1            NaN\n",
      "6        01     어린이날         Y  20230505    1            NaN\n",
      "7        01   부처님오신날         Y  20230527    1            NaN\n",
      "8        01    대체공휴일         Y  20230529    1            NaN\n",
      "9        01      현충일         Y  20230606    1            NaN\n",
      "10       01      제헌절         N  20230717    1  국경일이지만 공휴일 아님\n",
      "11       01      광복절         Y  20230815    1            NaN\n",
      "12       01       추석         Y  20230928    1            NaN\n",
      "13       01       추석         Y  20230929    1            NaN\n",
      "14       01       추석         Y  20230930    1            NaN\n",
      "15       01    임시공휴일         Y  20231002    2            NaN\n",
      "16       01      개천절         Y  20231003    1            NaN\n",
      "17       01      한글날         Y  20231009    1            NaN\n",
      "18       01    기독탄신일         Y  20231225    1            NaN\n"
     ]
    }
   ],
   "source": [
    "today = datetime.today().strftime('%Y%m%d')\n",
    "today_year = datetime.today().year\n",
    "    \n",
    "key = 'aS3BGPxfdhfIyusYfaJTuOoeew7nDNiUph%2FkA4fb5kGGSRoHLvnnqb8anDp60PyOZ4geFcchXU3BDy%2BKrbvC9Q%3D%3D'\n",
    "url = 'http://apis.data.go.kr/B090041/openapi/service/SpcdeInfoService/getHoliDeInfo?_type=json&numOfRows=50&solYear=' + str(today_year) + '&ServiceKey=' + str(key)\n",
    "response = requests.get(url)\n",
    "if response.status_code == 200:\n",
    "\tjson_ob = json.loads(response.text)\n",
    "\tholidays_data = json_ob['response']['body']['items']['item']\n",
    "\tdataframe = json_normalize(holidays_data)\n",
    "dateName = dataframe.loc[dataframe['locdate'] == int(today), 'dateName']\n",
    "\n",
    "print(dataframe)\n",
    "\n"
   ]
  },
  {
   "cell_type": "code",
   "execution_count": 8,
   "metadata": {},
   "outputs": [
    {
     "name": "stdout",
     "output_type": "stream",
     "text": [
      "b'<OpenAPI_ServiceResponse>\\n\\t<cmmMsgHeader>\\n\\t\\t<errMsg>SERVICE ERROR</errMsg>\\n\\t\\t<returnAuthMsg>SERVICE_KEY_IS_NOT_REGISTERED_ERROR</returnAuthMsg>\\n\\t\\t<returnReasonCode>30</returnReasonCode>\\n\\t</cmmMsgHeader>\\n</OpenAPI_ServiceResponse>'\n"
     ]
    }
   ],
   "source": [
    "import requests\n",
    "\n",
    "url = 'http://apis.data.go.kr/B090041/openapi/service/SpcdeInfoService/getHoliDeInfo'\n",
    "params ={'serviceKey' : key, 'solYear' : '2015', 'solMonth' : '09' }\n",
    "\n",
    "response = requests.get(url, params=params)\n",
    "print(response.content)"
   ]
  }
 ],
 "metadata": {
  "kernelspec": {
   "display_name": "mini7",
   "language": "python",
   "name": "python3"
  },
  "language_info": {
   "codemirror_mode": {
    "name": "ipython",
    "version": 3
   },
   "file_extension": ".py",
   "mimetype": "text/x-python",
   "name": "python",
   "nbconvert_exporter": "python",
   "pygments_lexer": "ipython3",
   "version": "3.11.5"
  }
 },
 "nbformat": 4,
 "nbformat_minor": 2
}
